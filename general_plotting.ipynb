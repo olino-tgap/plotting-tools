{
 "cells": [
  {
   "cell_type": "markdown",
   "metadata": {},
   "source": [
    "# General Plotting"
   ]
  },
  {
   "cell_type": "markdown",
   "metadata": {},
   "source": [
    "## Header for includes"
   ]
  },
  {
   "cell_type": "code",
   "execution_count": null,
   "metadata": {},
   "outputs": [],
   "source": [
    "import matplotlib.pyplot as plt\n",
    "import numpy as np\n",
    "import csv\n",
    "\n",
    "# Other common values can be defined"
   ]
  },
  {
   "cell_type": "markdown",
   "metadata": {},
   "source": [
    "## Define CSV Function for Parsing"
   ]
  },
  {
   "cell_type": "code",
   "execution_count": null,
   "metadata": {},
   "outputs": [],
   "source": [
    "# This function reads the provided CSV file and loads the provided dict with vectors of data corresponding to the headers defined in the dict\n",
    "def readCSVFile(csv_filename, dict_to_load):\n",
    "  with open(csv_filename, 'r', newline='') as csvfile:\n",
    "    csvreader = csv.reader(csvfile, delimiter=',')\n",
    "    row_counter = 0\n",
    "    column_index_dict = {}\n",
    "    for row in csvreader:\n",
    "      column_counter = 0\n",
    "      if row_counter == 0:\n",
    "        for val in row:\n",
    "          if val in dict_to_load:\n",
    "            column_index_dict[column_counter] = val\n",
    "          column_counter += 1\n",
    "      else:\n",
    "        for val in row:\n",
    "          dict_to_load[column_index_dict[column_counter]].append(int(val))\n",
    "          column_counter += 1\n",
    "      row_counter += 1"
   ]
  },
  {
   "cell_type": "markdown",
   "metadata": {},
   "source": [
    "## Define function for Scatter plotting"
   ]
  },
  {
   "cell_type": "code",
   "execution_count": null,
   "metadata": {},
   "outputs": [],
   "source": [
    "def scatterPlot(plot_struct, dict_to_read, x_str, color_dict):\n",
    "  for key in color_dict:\n",
    "    plot_struct.scatter(x=dict_to_read[x_str], y=dict_to_read[key], color=color_dict[key], label=key, marker='o')"
   ]
  },
  {
   "cell_type": "markdown",
   "metadata": {},
   "source": [
    "## UK Parliament Plotting"
   ]
  },
  {
   "cell_type": "code",
   "execution_count": null,
   "metadata": {},
   "outputs": [],
   "source": [
    "uk_election_data = {\n",
    "  \"Year\": [],\n",
    "  \"CON Seats\": [],\n",
    "  \"CON Votes\": [],\n",
    "  \"LAB Seats\": [],\n",
    "  \"LAB Votes\": [],\n",
    "  \"LD Seats\": [],\n",
    "  \"LD Votes\": [],\n",
    "  \"SNP Seats\": [],\n",
    "  \"SNP Votes\": [],\n",
    "  \"UKIP Seats\": [],\n",
    "  \"UKIP Votes\": [],\n",
    "  \"Total Seats\": [],\n",
    "  \"Total Votes\": []\n",
    "}\n",
    "readCSVFile(\"data/uk_parliament_elections.csv\", uk_election_data)\n",
    "\n",
    "color_dict = {\n",
    "  \"CON Seats\": \"blue\",\n",
    "  \"LAB Seats\": \"red\",\n",
    "  \"LD Seats\": \"yellow\",\n",
    "  \"SNP Seats\": \"orange\",\n",
    "  \"UKIP Seats\": \"purple\"\n",
    "}\n",
    "\n",
    "scatterPlot(plt, uk_election_data, \"Year\", color_dict)\n",
    "plt.legend(bbox_to_anchor=(1.01, 1.00))\n",
    "plt.xlabel(\"Year\", fontsize=14)\n",
    "plt.ylabel(\"Seats\", fontsize=14)\n",
    "plt.show()"
   ]
  }
 ],
 "metadata": {
  "kernelspec": {
   "display_name": "Python 3",
   "language": "python",
   "name": "python3"
  },
  "language_info": {
   "codemirror_mode": {
    "name": "ipython",
    "version": 3
   },
   "file_extension": ".py",
   "mimetype": "text/x-python",
   "name": "python",
   "nbconvert_exporter": "python",
   "pygments_lexer": "ipython3",
   "version": "3.10.6"
  }
 },
 "nbformat": 4,
 "nbformat_minor": 2
}
