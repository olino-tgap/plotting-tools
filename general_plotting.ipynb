{
 "cells": [
  {
   "cell_type": "markdown",
   "metadata": {},
   "source": [
    "# General Plotting"
   ]
  },
  {
   "cell_type": "markdown",
   "metadata": {},
   "source": [
    "## Header for includes"
   ]
  },
  {
   "cell_type": "code",
   "execution_count": null,
   "metadata": {},
   "outputs": [],
   "source": [
    "import matplotlib.pyplot as plt\n",
    "import numpy as np\n",
    "import csv\n",
    "\n",
    "# Other common values can be defined\n",
    "label_fontsize = 14"
   ]
  },
  {
   "cell_type": "markdown",
   "metadata": {},
   "source": [
    "## Define CSV Function for Parsing"
   ]
  },
  {
   "cell_type": "code",
   "execution_count": null,
   "metadata": {},
   "outputs": [],
   "source": [
    "# This function reads the provided CSV file and loads the provided dict with vectors of data corresponding to the headers defined in the dict\n",
    "def readCSVFile(csv_filename, dict_to_load):\n",
    "  with open(csv_filename, 'r', newline='') as csvfile:\n",
    "    csvreader = csv.reader(csvfile, delimiter=',')\n",
    "    row_counter = 0\n",
    "    column_index_dict = {}\n",
    "    for row in csvreader:\n",
    "      column_counter = 0\n",
    "      if row_counter == 0:\n",
    "        for val in row:\n",
    "          if val in dict_to_load:\n",
    "            column_index_dict[column_counter] = val\n",
    "          column_counter += 1\n",
    "      else:\n",
    "        for val in row:\n",
    "          dict_to_load[column_index_dict[column_counter]].append(int(val))\n",
    "          column_counter += 1\n",
    "      row_counter += 1"
   ]
  },
  {
   "cell_type": "markdown",
   "metadata": {},
   "source": [
    "## Define function for Scatter plotting"
   ]
  },
  {
   "cell_type": "code",
   "execution_count": null,
   "metadata": {},
   "outputs": [],
   "source": [
    "def scatterPlot(plot_struct, dict_to_read, x_str, color_dict, marker_str, remove_zeroes):\n",
    "  for key in color_dict:\n",
    "    if remove_zeroes:\n",
    "      temp_x = []\n",
    "      temp_y = []\n",
    "      for i in range(0, len(dict_to_read[key])):\n",
    "        if dict_to_read[key][i] != 0:\n",
    "          temp_x.append(dict_to_read[x_str][i])\n",
    "          temp_y.append(dict_to_read[key][i])\n",
    "      plot_struct.scatter(x=temp_x, y=temp_y, color=color_dict[key], label=key, marker=marker_str)\n",
    "    else:\n",
    "      plot_struct.scatter(x=dict_to_read[x_str], y=dict_to_read[key], color=color_dict[key], label=key, marker=marker_str)"
   ]
  },
  {
   "cell_type": "markdown",
   "metadata": {},
   "source": [
    "## UK Parliament Plotting"
   ]
  },
  {
   "cell_type": "code",
   "execution_count": null,
   "metadata": {},
   "outputs": [],
   "source": [
    "uk_election_data = {\n",
    "  \"Year\": [],\n",
    "  \"CON Seats\": [],\n",
    "  \"CON Votes\": [],\n",
    "  \"LAB Seats\": [],\n",
    "  \"LAB Votes\": [],\n",
    "  \"LD Seats\": [],\n",
    "  \"LD Votes\": [],\n",
    "  \"SNP Seats\": [],\n",
    "  \"SNP Votes\": [],\n",
    "  \"UKIP Seats\": [],\n",
    "  \"UKIP Votes\": [],\n",
    "  \"Total Seats\": [],\n",
    "  \"Total Votes\": []\n",
    "}\n",
    "readCSVFile(\"data/uk_parliament_elections.csv\", uk_election_data)\n",
    "\n",
    "color_dict = {\n",
    "  \"CON Seat%/Vote%\": \"blue\",\n",
    "  \"LAB Seat%/Vote%\": \"red\",\n",
    "  \"LD Seat%/Vote%\": \"yellow\",\n",
    "  \"SNP Seat%/Vote%\": \"orange\",\n",
    "  \"UKIP Seat%/Vote%\": \"purple\"\n",
    "}\n",
    "\n",
    "color_dict_2 = {\n",
    "  \"CON Seats\": \"blue\",\n",
    "  \"LAB Seats\": \"red\",\n",
    "  \"LD Seats\": \"yellow\",\n",
    "  \"SNP Seats\": \"orange\",\n",
    "  \"UKIP Seats\": \"purple\"\n",
    "}\n",
    "\n",
    "uk_additional_values = [\n",
    "  \"CON Seat%\",\n",
    "  \"CON Vote%\",\n",
    "  \"CON Seat%/Vote%\",\n",
    "  \"LAB Seat%\",\n",
    "  \"LAB Vote%\",\n",
    "  \"LAB Seat%/Vote%\",\n",
    "  \"LD Seat%\",\n",
    "  \"LD Vote%\",\n",
    "  \"LD Seat%/Vote%\",\n",
    "  \"SNP Seat%\",\n",
    "  \"SNP Vote%\",\n",
    "  \"SNP Seat%/Vote%\",\n",
    "  \"UKIP Seat%\",\n",
    "  \"UKIP Vote%\",\n",
    "  \"UKIP Seat%/Vote%\"\n",
    "]\n",
    "\n",
    "for key in uk_additional_values:\n",
    "  uk_election_data[key] = []\n",
    "  key_vec = key.split(' ')\n",
    "  num_elections = len(uk_election_data[\"Year\"])\n",
    "  if len(key_vec) != 2:\n",
    "    print(\"Unexpected error parsing: \", key_vec)\n",
    "  if key_vec[1] == \"Seat%\":\n",
    "    for i in range(0, num_elections):\n",
    "      if uk_election_data[key_vec[0] + \" Seats\"][i] == 0:\n",
    "        uk_election_data[key].append(0.0)\n",
    "      else:\n",
    "        uk_election_data[key].append(uk_election_data[key_vec[0] + \" Seats\"][i] / uk_election_data[\"Total Seats\"][i])\n",
    "  elif key_vec[1] == \"Vote%\":\n",
    "    for i in range(0, num_elections):\n",
    "      if uk_election_data[key_vec[0] + \" Votes\"][i] == 0:\n",
    "        uk_election_data[key].append(0.0)\n",
    "      else:\n",
    "        uk_election_data[key].append(uk_election_data[key_vec[0] + \" Votes\"][i] / uk_election_data[\"Total Votes\"][i])\n",
    "  elif key_vec[1] == \"Seat%/Vote%\":\n",
    "    for i in range(0, num_elections):\n",
    "      if uk_election_data[key_vec[0] + \" Seats\"][i] == 0:\n",
    "        uk_election_data[key].append(0.0)\n",
    "      else:\n",
    "        uk_election_data[key].append((uk_election_data[key_vec[0] + \" Seats\"][i] / uk_election_data[\"Total Seats\"][i]) / (uk_election_data[key_vec[0] + \" Votes\"][i] / uk_election_data[\"Total Votes\"][i]))\n",
    "\n",
    "fig, ax1 = plt.subplots()\n",
    "ax1.set_xlabel(\"Year\", fontsize=label_fontsize)\n",
    "ax1.set_ylabel(\"Seat% / Vote%\", fontsize=label_fontsize)\n",
    "ax1.set_xlim([1970, 2030])\n",
    "ax1.set_ylim([0.00, 2.00])\n",
    "\n",
    "ax2 = ax1.twinx()\n",
    "ax2.set_ylabel(\"Seats\", fontsize=label_fontsize)\n",
    "ax2.set_ylim([0, 500])\n",
    "\n",
    "scatterPlot(ax1, uk_election_data, \"Year\", color_dict, \"o\", True)\n",
    "scatterPlot(ax2, uk_election_data, \"Year\", color_dict_2, \"+\", True)\n",
    "ax1.legend(bbox_to_anchor=(1.15, 1.00))\n",
    "ax2.legend(bbox_to_anchor=(1.15, 0.30))\n",
    "plt.show()"
   ]
  }
 ],
 "metadata": {
  "kernelspec": {
   "display_name": "Python 3",
   "language": "python",
   "name": "python3"
  },
  "language_info": {
   "codemirror_mode": {
    "name": "ipython",
    "version": 3
   },
   "file_extension": ".py",
   "mimetype": "text/x-python",
   "name": "python",
   "nbconvert_exporter": "python",
   "pygments_lexer": "ipython3",
   "version": "3.10.6"
  }
 },
 "nbformat": 4,
 "nbformat_minor": 2
}
